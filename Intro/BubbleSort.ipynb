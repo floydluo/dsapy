{
 "cells": [
  {
   "cell_type": "code",
   "execution_count": 1,
   "metadata": {},
   "outputs": [],
   "source": [
    "def swap(a, b, A):\n",
    "    A[a], A[b] = A[b], A[a]\n",
    "    return \n",
    "      \n",
    "def strL(A):\n",
    "    return '\\t'+  '\\t'.join([str(e) for e in A])\n",
    "    \n",
    "def strT(A, i):\n",
    "    L = ['*']*len(A)\n",
    "    L[i: i+2] = A[i: i+2]\n",
    "    return strL(L)\n",
    "    "
   ]
  },
  {
   "cell_type": "code",
   "execution_count": 2,
   "metadata": {
    "collapsed": true
   },
   "outputs": [],
   "source": [
    "def bubblesort(A, n):\n",
    "    # number of comparisons and swaps\n",
    "    cmp = 0\n",
    "    swp = 0\n",
    "    print('From', strL(A))\n",
    "    while n > 0:\n",
    "        n-=1\n",
    "        for i in range(n):\n",
    "            cmp += 1 # add comparison number\n",
    "            if A[i] > A[i+1]:\n",
    "                swap(i, i+1, A)\n",
    "                swp += 1 # add swap number\n",
    "                print( 'On', n+1, strT(A, i))\n",
    "    print(\"Sorted\", strL(A))\n",
    "    print(\"Num of Comparisons = \", cmp, \"\\tNum of Swaps = \", swp)"
   ]
  },
  {
   "cell_type": "code",
   "execution_count": 3,
   "metadata": {},
   "outputs": [],
   "source": [
    "def bubblesort1A(A, n):\n",
    "    cmp, swp =0, 0\n",
    "    Sorted = False\n",
    "    print('From', strL(A))\n",
    "    while Sorted == False:\n",
    "        Sorted = True\n",
    "        for i in range(1, n):\n",
    "            cmp += 1\n",
    "            if A[i-1] > A[i]:\n",
    "                swap(i-1, i, A)\n",
    "                Sorted = False\n",
    "                swp += 1\n",
    "                print('On', n, strT(A,i-1))\n",
    "        n -= 1\n",
    "    print(\"Sorted\", strL(A))\n",
    "    print(\"Num of Comparisons = \", cmp, \"\\tNum of Swaps = \", swp)\n",
    "    \n",
    "    return    \n",
    "    "
   ]
  },
  {
   "cell_type": "code",
   "execution_count": 4,
   "metadata": {},
   "outputs": [
    {
     "data": {
      "text/plain": [
       "True"
      ]
     },
     "execution_count": 4,
     "metadata": {},
     "output_type": "execute_result"
    }
   ],
   "source": [
    "Sorted = False\n",
    "not Sorted"
   ]
  },
  {
   "cell_type": "code",
   "execution_count": 5,
   "metadata": {
    "collapsed": true
   },
   "outputs": [],
   "source": [
    "def bubblesort1B(A, n):\n",
    "    cmp, swp = 0, 0\n",
    "    \n",
    "    Sorted = False\n",
    "    print('From', strL(A))\n",
    "    for t in range(n, 1, -1):\n",
    "        w = 0\n",
    "        Sorted = not Sorted\n",
    "        \n",
    "        for i in range(1, t):\n",
    "            cmp += 1\n",
    "            if A[i-1] > A[i]:\n",
    "                swap(i-1, i, A)\n",
    "                Sorted = False\n",
    "                swp += 1\n",
    "                print('On', t, strT(A,i-1))\n",
    "        \n",
    "        if Sorted == True:\n",
    "            break\n",
    "        \n",
    "            \n",
    "    print(\"Sorted\", strL(A))\n",
    "    print(\"Num of Comparisons = \", cmp, \"\\tNum of Swaps = \", swp)\n",
    "    \n",
    "    return\n",
    "                            "
   ]
  },
  {
   "cell_type": "code",
   "execution_count": 6,
   "metadata": {
    "collapsed": true
   },
   "outputs": [],
   "source": [
    "def bubblesort2(A, n):\n",
    "    cmp, swp = 0, 0\n",
    "    print('From', strL(A))\n",
    "    while n > 1:\n",
    "        for i in range(1,n):\n",
    "            m = 1\n",
    "            cmp += 1\n",
    "            if A[i-1] > A[i]:\n",
    "                swap(i-1, i, A)\n",
    "                swp += 1\n",
    "                print('On', n, strT(A,i-1))\n",
    "                # shrink the length\n",
    "                m = i \n",
    "        n = m\n",
    "    \n",
    "    print(\"Sorted\", strL(A))\n",
    "    print(\"Num of Comparisons = \", cmp, \"\\tNum of Swaps = \", swp)\n",
    "    \n",
    "    return\n",
    "       "
   ]
  },
  {
   "cell_type": "code",
   "execution_count": 8,
   "metadata": {
    "collapsed": true
   },
   "outputs": [],
   "source": [
    "A = [1, 2, 5, 3, 4, 6, 7, 8, 10, 9]\n",
    "\n",
    "A = [0, 72, 13, 39, 74, 89, 97, 7, 10, 21]"
   ]
  },
  {
   "cell_type": "code",
   "execution_count": 17,
   "metadata": {},
   "outputs": [
    {
     "name": "stdout",
     "output_type": "stream",
     "text": [
      "From \t0\t72\t13\t39\t74\t89\t97\t7\t10\t21\n",
      "On 10 \t*\t13\t72\t*\t*\t*\t*\t*\t*\t*\n",
      "On 10 \t*\t*\t39\t72\t*\t*\t*\t*\t*\t*\n",
      "On 10 \t*\t*\t*\t*\t*\t*\t7\t97\t*\t*\n",
      "On 10 \t*\t*\t*\t*\t*\t*\t*\t10\t97\t*\n",
      "On 10 \t*\t*\t*\t*\t*\t*\t*\t*\t21\t97\n",
      "On 9 \t*\t*\t*\t*\t*\t7\t89\t*\t*\t*\n",
      "On 9 \t*\t*\t*\t*\t*\t*\t10\t89\t*\t*\n",
      "On 9 \t*\t*\t*\t*\t*\t*\t*\t21\t89\t*\n",
      "On 8 \t*\t*\t*\t*\t7\t74\t*\t*\t*\t*\n",
      "On 8 \t*\t*\t*\t*\t*\t10\t74\t*\t*\t*\n",
      "On 8 \t*\t*\t*\t*\t*\t*\t21\t74\t*\t*\n",
      "On 7 \t*\t*\t*\t7\t72\t*\t*\t*\t*\t*\n",
      "On 7 \t*\t*\t*\t*\t10\t72\t*\t*\t*\t*\n",
      "On 7 \t*\t*\t*\t*\t*\t21\t72\t*\t*\t*\n",
      "On 6 \t*\t*\t7\t39\t*\t*\t*\t*\t*\t*\n",
      "On 6 \t*\t*\t*\t10\t39\t*\t*\t*\t*\t*\n",
      "On 6 \t*\t*\t*\t*\t21\t39\t*\t*\t*\t*\n",
      "On 5 \t*\t7\t13\t*\t*\t*\t*\t*\t*\t*\n",
      "On 5 \t*\t*\t10\t13\t*\t*\t*\t*\t*\t*\n",
      "Sorted \t0\t7\t10\t13\t21\t39\t72\t74\t89\t97\n",
      "Num of Comparisons =  45 \tNum of Swaps =  19\n"
     ]
    }
   ],
   "source": [
    "A = [0, 72, 13, 39, 74, 89, 97, 7, 10, 21]\n",
    "\n",
    "bubblesort(A, 10) "
   ]
  },
  {
   "cell_type": "code",
   "execution_count": 18,
   "metadata": {},
   "outputs": [
    {
     "name": "stdout",
     "output_type": "stream",
     "text": [
      "From \t0\t72\t13\t39\t74\t89\t97\t7\t10\t21\n",
      "On 10 \t*\t13\t72\t*\t*\t*\t*\t*\t*\t*\n",
      "On 10 \t*\t*\t39\t72\t*\t*\t*\t*\t*\t*\n",
      "On 10 \t*\t*\t*\t*\t*\t*\t7\t97\t*\t*\n",
      "On 10 \t*\t*\t*\t*\t*\t*\t*\t10\t97\t*\n",
      "On 10 \t*\t*\t*\t*\t*\t*\t*\t*\t21\t97\n",
      "On 9 \t*\t*\t*\t*\t*\t7\t89\t*\t*\t*\n",
      "On 9 \t*\t*\t*\t*\t*\t*\t10\t89\t*\t*\n",
      "On 9 \t*\t*\t*\t*\t*\t*\t*\t21\t89\t*\n",
      "On 8 \t*\t*\t*\t*\t7\t74\t*\t*\t*\t*\n",
      "On 8 \t*\t*\t*\t*\t*\t10\t74\t*\t*\t*\n",
      "On 8 \t*\t*\t*\t*\t*\t*\t21\t74\t*\t*\n",
      "On 7 \t*\t*\t*\t7\t72\t*\t*\t*\t*\t*\n",
      "On 7 \t*\t*\t*\t*\t10\t72\t*\t*\t*\t*\n",
      "On 7 \t*\t*\t*\t*\t*\t21\t72\t*\t*\t*\n",
      "On 6 \t*\t*\t7\t39\t*\t*\t*\t*\t*\t*\n",
      "On 6 \t*\t*\t*\t10\t39\t*\t*\t*\t*\t*\n",
      "On 6 \t*\t*\t*\t*\t21\t39\t*\t*\t*\t*\n",
      "On 5 \t*\t7\t13\t*\t*\t*\t*\t*\t*\t*\n",
      "On 5 \t*\t*\t10\t13\t*\t*\t*\t*\t*\t*\n",
      "Sorted \t0\t7\t10\t13\t21\t39\t72\t74\t89\t97\n",
      "Num of Comparisons =  42 \tNum of Swaps =  19\n"
     ]
    }
   ],
   "source": [
    "A = [0, 72, 13, 39, 74, 89, 97, 7, 10, 21]\n",
    "\n",
    "bubblesort1A(A, 10) "
   ]
  },
  {
   "cell_type": "code",
   "execution_count": 19,
   "metadata": {},
   "outputs": [
    {
     "name": "stdout",
     "output_type": "stream",
     "text": [
      "From \t0\t72\t13\t39\t74\t89\t97\t7\t10\t21\n",
      "On 10 \t*\t13\t72\t*\t*\t*\t*\t*\t*\t*\n",
      "On 10 \t*\t*\t39\t72\t*\t*\t*\t*\t*\t*\n",
      "On 10 \t*\t*\t*\t*\t*\t*\t7\t97\t*\t*\n",
      "On 10 \t*\t*\t*\t*\t*\t*\t*\t10\t97\t*\n",
      "On 10 \t*\t*\t*\t*\t*\t*\t*\t*\t21\t97\n",
      "On 9 \t*\t*\t*\t*\t*\t7\t89\t*\t*\t*\n",
      "On 9 \t*\t*\t*\t*\t*\t*\t10\t89\t*\t*\n",
      "On 9 \t*\t*\t*\t*\t*\t*\t*\t21\t89\t*\n",
      "On 8 \t*\t*\t*\t*\t7\t74\t*\t*\t*\t*\n",
      "On 8 \t*\t*\t*\t*\t*\t10\t74\t*\t*\t*\n",
      "On 8 \t*\t*\t*\t*\t*\t*\t21\t74\t*\t*\n",
      "On 7 \t*\t*\t*\t7\t72\t*\t*\t*\t*\t*\n",
      "On 7 \t*\t*\t*\t*\t10\t72\t*\t*\t*\t*\n",
      "On 7 \t*\t*\t*\t*\t*\t21\t72\t*\t*\t*\n",
      "On 6 \t*\t*\t7\t39\t*\t*\t*\t*\t*\t*\n",
      "On 6 \t*\t*\t*\t10\t39\t*\t*\t*\t*\t*\n",
      "On 6 \t*\t*\t*\t*\t21\t39\t*\t*\t*\t*\n",
      "On 5 \t*\t7\t13\t*\t*\t*\t*\t*\t*\t*\n",
      "On 5 \t*\t*\t10\t13\t*\t*\t*\t*\t*\t*\n",
      "Sorted \t0\t7\t10\t13\t21\t39\t72\t74\t89\t97\n",
      "Num of Comparisons =  42 \tNum of Swaps =  19\n"
     ]
    }
   ],
   "source": [
    "A = [0, 72, 13, 39, 74, 89, 97, 7, 10, 21]\n",
    "\n",
    "bubblesort1B(A, 10) "
   ]
  },
  {
   "cell_type": "code",
   "execution_count": 20,
   "metadata": {},
   "outputs": [
    {
     "name": "stdout",
     "output_type": "stream",
     "text": [
      "From \t0\t72\t13\t39\t74\t89\t97\t7\t10\t21\n",
      "On 10 \t*\t13\t72\t*\t*\t*\t*\t*\t*\t*\n",
      "On 10 \t*\t*\t39\t72\t*\t*\t*\t*\t*\t*\n",
      "On 10 \t*\t*\t*\t*\t*\t*\t7\t97\t*\t*\n",
      "On 10 \t*\t*\t*\t*\t*\t*\t*\t10\t97\t*\n",
      "On 10 \t*\t*\t*\t*\t*\t*\t*\t*\t21\t97\n",
      "On 9 \t*\t*\t*\t*\t*\t7\t89\t*\t*\t*\n",
      "On 9 \t*\t*\t*\t*\t*\t*\t10\t89\t*\t*\n",
      "On 9 \t*\t*\t*\t*\t*\t*\t*\t21\t89\t*\n",
      "On 8 \t*\t*\t*\t*\t7\t74\t*\t*\t*\t*\n",
      "On 8 \t*\t*\t*\t*\t*\t10\t74\t*\t*\t*\n",
      "On 8 \t*\t*\t*\t*\t*\t*\t21\t74\t*\t*\n",
      "On 7 \t*\t*\t*\t7\t72\t*\t*\t*\t*\t*\n",
      "On 7 \t*\t*\t*\t*\t10\t72\t*\t*\t*\t*\n",
      "On 7 \t*\t*\t*\t*\t*\t21\t72\t*\t*\t*\n",
      "On 6 \t*\t*\t7\t39\t*\t*\t*\t*\t*\t*\n",
      "On 6 \t*\t*\t*\t10\t39\t*\t*\t*\t*\t*\n",
      "On 6 \t*\t*\t*\t*\t21\t39\t*\t*\t*\t*\n",
      "On 5 \t*\t7\t13\t*\t*\t*\t*\t*\t*\t*\n",
      "On 5 \t*\t*\t10\t13\t*\t*\t*\t*\t*\t*\n",
      "Sorted \t0\t7\t10\t13\t21\t39\t72\t74\t89\t97\n",
      "Num of Comparisons =  39 \tNum of Swaps =  19\n"
     ]
    }
   ],
   "source": [
    "A = [0, 72, 13, 39, 74, 89, 97, 7, 10, 21]\n",
    "\n",
    "bubblesort2(A, 10) "
   ]
  }
 ],
 "metadata": {
  "kernelspec": {
   "display_name": "Python 3",
   "language": "python",
   "name": "python3"
  },
  "language_info": {
   "codemirror_mode": {
    "name": "ipython",
    "version": 3
   },
   "file_extension": ".py",
   "mimetype": "text/x-python",
   "name": "python",
   "nbconvert_exporter": "python",
   "pygments_lexer": "ipython3",
   "version": "3.6.3"
  }
 },
 "nbformat": 4,
 "nbformat_minor": 2
}
